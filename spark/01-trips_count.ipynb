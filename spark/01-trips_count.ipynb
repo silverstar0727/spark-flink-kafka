{
 "cells": [
  {
   "cell_type": "code",
   "execution_count": 3,
   "id": "3257494e",
   "metadata": {},
   "outputs": [],
   "source": [
    "from pyspark import SparkConf, SparkContext\n",
    "import pandas as pd"
   ]
  },
  {
   "cell_type": "code",
   "execution_count": 4,
   "id": "dea32fc0",
   "metadata": {},
   "outputs": [
    {
     "name": "stderr",
     "output_type": "stream",
     "text": [
      "WARNING: An illegal reflective access operation has occurred\n",
      "WARNING: Illegal reflective access by org.apache.spark.unsafe.Platform (file:/opt/spark/jars/spark-unsafe_2.12-3.2.0.jar) to constructor java.nio.DirectByteBuffer(long,int)\n",
      "WARNING: Please consider reporting this to the maintainers of org.apache.spark.unsafe.Platform\n",
      "WARNING: Use --illegal-access=warn to enable warnings of further illegal reflective access operations\n",
      "WARNING: All illegal access operations will be denied in a future release\n",
      "Using Spark's default log4j profile: org/apache/spark/log4j-defaults.properties\n",
      "Setting default log level to \"WARN\".\n",
      "To adjust logging level use sc.setLogLevel(newLevel). For SparkR, use setLogLevel(newLevel).\n",
      "22/01/25 08:11:52 WARN NativeCodeLoader: Unable to load native-hadoop library for your platform... using builtin-java classes where applicable\n"
     ]
    }
   ],
   "source": [
    "conf = SparkConf().setMaster(\"local\").setAppName(\"uber-date-trips\")\n",
    "sc = SparkContext(conf=conf)"
   ]
  },
  {
   "cell_type": "code",
   "execution_count": 5,
   "id": "a6c1ca19",
   "metadata": {},
   "outputs": [],
   "source": [
    "directory = \"/home/dojm.ex5/spark-flink-kafka\"\n",
    "filename = \"fhvhv_tripdata_2020-03.csv\""
   ]
  },
  {
   "cell_type": "code",
   "execution_count": 6,
   "id": "3f9cb0f2",
   "metadata": {},
   "outputs": [],
   "source": [
    "lines = sc.textFile(f\"{directory}/{filename}\")"
   ]
  },
  {
   "cell_type": "code",
   "execution_count": 14,
   "id": "794f5a8c",
   "metadata": {},
   "outputs": [
    {
     "data": {
      "text/plain": [
       "['HV0005,B02510,2020-03-01 00:03:40,2020-03-01 00:23:39,81,159,']"
      ]
     },
     "execution_count": 14,
     "metadata": {},
     "output_type": "execute_result"
    }
   ],
   "source": [
    "header = lines.first()\n",
    "filtered_lines = lines.filter(lambda row: row != header)\n",
    "filtered_lines.take(1)"
   ]
  },
  {
   "cell_type": "code",
   "execution_count": 15,
   "id": "af898e2e",
   "metadata": {},
   "outputs": [],
   "source": [
    "dates = filtered_lines.map(lambda x: x.split(\",\")[2].split(\" \")[0])"
   ]
  },
  {
   "cell_type": "code",
   "execution_count": 16,
   "id": "e6e88dfa",
   "metadata": {},
   "outputs": [
    {
     "name": "stderr",
     "output_type": "stream",
     "text": [
      "                                                                                \r"
     ]
    }
   ],
   "source": [
    "result = dates.countByValue()"
   ]
  },
  {
   "cell_type": "code",
   "execution_count": 17,
   "id": "9d468483",
   "metadata": {},
   "outputs": [
    {
     "data": {
      "text/plain": [
       "defaultdict(int,\n",
       "            {'2020-03-01': 784246,\n",
       "             '2020-03-02': 648986,\n",
       "             '2020-03-03': 697880,\n",
       "             '2020-03-04': 707879,\n",
       "             '2020-03-05': 731165,\n",
       "             '2020-03-06': 872012,\n",
       "             '2020-03-07': 886071,\n",
       "             '2020-03-08': 731222,\n",
       "             '2020-03-09': 628940,\n",
       "             '2020-03-10': 626474,\n",
       "             '2020-03-11': 628601,\n",
       "             '2020-03-12': 643257,\n",
       "             '2020-03-13': 660914,\n",
       "             '2020-03-14': 569397,\n",
       "             '2020-03-15': 448125,\n",
       "             '2020-03-16': 391518,\n",
       "             '2020-03-17': 312298,\n",
       "             '2020-03-18': 269232,\n",
       "             '2020-03-19': 252773,\n",
       "             '2020-03-20': 261900,\n",
       "             '2020-03-21': 215745,\n",
       "             '2020-03-22': 162165,\n",
       "             '2020-03-23': 162392,\n",
       "             '2020-03-24': 141686,\n",
       "             '2020-03-25': 141088,\n",
       "             '2020-03-26': 141607,\n",
       "             '2020-03-27': 159339,\n",
       "             '2020-03-28': 138456,\n",
       "             '2020-03-29': 115393,\n",
       "             '2020-03-30': 132593,\n",
       "             '2020-03-31': 129550})"
      ]
     },
     "execution_count": 17,
     "metadata": {},
     "output_type": "execute_result"
    }
   ],
   "source": [
    "result"
   ]
  },
  {
   "cell_type": "code",
   "execution_count": 18,
   "id": "eee249fa",
   "metadata": {},
   "outputs": [
    {
     "data": {
      "text/plain": [
       "2020-03-01    784246\n",
       "2020-03-02    648986\n",
       "2020-03-03    697880\n",
       "2020-03-04    707879\n",
       "2020-03-05    731165\n",
       "2020-03-06    872012\n",
       "2020-03-07    886071\n",
       "2020-03-08    731222\n",
       "2020-03-09    628940\n",
       "2020-03-10    626474\n",
       "2020-03-11    628601\n",
       "2020-03-12    643257\n",
       "2020-03-13    660914\n",
       "2020-03-14    569397\n",
       "2020-03-15    448125\n",
       "2020-03-16    391518\n",
       "2020-03-17    312298\n",
       "2020-03-18    269232\n",
       "2020-03-19    252773\n",
       "2020-03-20    261900\n",
       "2020-03-21    215745\n",
       "2020-03-22    162165\n",
       "2020-03-23    162392\n",
       "2020-03-24    141686\n",
       "2020-03-25    141088\n",
       "2020-03-26    141607\n",
       "2020-03-27    159339\n",
       "2020-03-28    138456\n",
       "2020-03-29    115393\n",
       "2020-03-30    132593\n",
       "2020-03-31    129550\n",
       "Name: trips, dtype: int64"
      ]
     },
     "execution_count": 18,
     "metadata": {},
     "output_type": "execute_result"
    }
   ],
   "source": [
    "trips = pd.Series(result, name=\"trips\")\n",
    "trips"
   ]
  },
  {
   "cell_type": "code",
   "execution_count": 19,
   "id": "ad805c8c",
   "metadata": {},
   "outputs": [
    {
     "data": {
      "text/plain": [
       "<AxesSubplot:>"
      ]
     },
     "execution_count": 19,
     "metadata": {},
     "output_type": "execute_result"
    },
    {
     "data": {
      "image/png": "[encoded data removed]",
      "text/plain": [
       "<Figure size 432x288 with 1 Axes>"
      ]
     },
     "metadata": {
      "needs_background": "light"
     },
     "output_type": "display_data"
    }
   ],
   "source": [
    "import matplotlib.pyplot as plt\n",
    "\n",
    "trips.plot()"
   ]
  },
  {
   "cell_type": "code",
   "execution_count": null,
   "id": "5b673aab",
   "metadata": {},
   "outputs": [],
   "source": []
  }
 ],
 "metadata": {
  "kernelspec": {
   "display_name": "Python 3 (ipykernel)",
   "language": "python",
   "name": "python3"
  },
  "language_info": {
   "codemirror_mode": {
    "name": "ipython",
    "version": 3
   },
   "file_extension": ".py",
   "mimetype": "text/x-python",
   "name": "python",
   "nbconvert_exporter": "python",
   "pygments_lexer": "ipython3",
   "version": "3.9.7"
  }
 },
 "nbformat": 4,
 "nbformat_minor": 5
}
